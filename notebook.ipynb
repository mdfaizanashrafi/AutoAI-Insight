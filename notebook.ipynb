{
 "cells": [
  {
   "cell_type": "code",
   "execution_count": 1,
   "id": "1235c2bf",
   "metadata": {},
   "outputs": [
    {
     "ename": "ModuleNotFoundError",
     "evalue": "No module named 'utils'",
     "output_type": "error",
     "traceback": [
      "\u001b[31m---------------------------------------------------------------------------\u001b[39m",
      "\u001b[31mModuleNotFoundError\u001b[39m                       Traceback (most recent call last)",
      "\u001b[36mCell\u001b[39m\u001b[36m \u001b[39m\u001b[32mIn[1]\u001b[39m\u001b[32m, line 1\u001b[39m\n\u001b[32m----> \u001b[39m\u001b[32m1\u001b[39m \u001b[38;5;28;01mfrom\u001b[39;00m\u001b[38;5;250m \u001b[39m\u001b[34;01mbackend\u001b[39;00m\u001b[34;01m.\u001b[39;00m\u001b[34;01mdata_pipeline\u001b[39;00m\u001b[34;01m.\u001b[39;00m\u001b[34;01mdata_loader\u001b[39;00m\u001b[38;5;250m \u001b[39m\u001b[38;5;28;01mimport\u001b[39;00m load_data\n\u001b[32m      2\u001b[39m \u001b[38;5;28;01mfrom\u001b[39;00m\u001b[38;5;250m \u001b[39m\u001b[34;01mbackend\u001b[39;00m\u001b[34;01m.\u001b[39;00m\u001b[34;01mdata_pipeline\u001b[39;00m\u001b[34;01m.\u001b[39;00m\u001b[34;01mpreprocessing\u001b[39;00m\u001b[38;5;250m \u001b[39m\u001b[38;5;28;01mimport\u001b[39;00m detect_feature_types, build_preprocessing_pipeline\n\u001b[32m      4\u001b[39m df = load_data(\u001b[33m'\u001b[39m\u001b[33mdata/raw/synthetic_data.csv\u001b[39m\u001b[33m'\u001b[39m)\n",
      "\u001b[36mFile \u001b[39m\u001b[32md:\\Python\\AutoAI-Insight\\autoai-insight\\backend\\data_pipeline\\data_loader.py:3\u001b[39m\n\u001b[32m      1\u001b[39m \u001b[38;5;28;01mimport\u001b[39;00m\u001b[38;5;250m \u001b[39m\u001b[34;01mpandas\u001b[39;00m\u001b[38;5;250m \u001b[39m\u001b[38;5;28;01mas\u001b[39;00m\u001b[38;5;250m \u001b[39m\u001b[34;01mpd\u001b[39;00m\n\u001b[32m      2\u001b[39m \u001b[38;5;28;01mimport\u001b[39;00m\u001b[38;5;250m \u001b[39m\u001b[34;01mpolars\u001b[39;00m\u001b[38;5;250m \u001b[39m\u001b[38;5;28;01mas\u001b[39;00m\u001b[38;5;250m \u001b[39m\u001b[34;01mpl\u001b[39;00m\n\u001b[32m----> \u001b[39m\u001b[32m3\u001b[39m \u001b[38;5;28;01mfrom\u001b[39;00m\u001b[38;5;250m \u001b[39m\u001b[34;01mutils\u001b[39;00m\u001b[38;5;250m \u001b[39m\u001b[38;5;28;01mimport\u001b[39;00m get_file_extension\n\u001b[32m      5\u001b[39m \u001b[38;5;28;01mdef\u001b[39;00m\u001b[38;5;250m \u001b[39m\u001b[34mload_data\u001b[39m(file_path, engine=\u001b[33m'\u001b[39m\u001b[33mpandas\u001b[39m\u001b[33m'\u001b[39m):\n\u001b[32m      6\u001b[39m     ext= get_file_extension(file_path)\n",
      "\u001b[31mModuleNotFoundError\u001b[39m: No module named 'utils'"
     ]
    }
   ],
   "source": [
    "from backend.data_pipeline.data_loader import load_data\n",
    "from backend.data_pipeline.preprocessing import detect_feature_types, build_preprocessing_pipeline\n",
    "\n",
    "df = load_data('data/raw/synthetic_data.csv')\n",
    "feature_types= detect_feature_types(df)\n",
    "print(feature_types)\n",
    "\n",
    "X=df.drop(columns=['target'])\n",
    "y=df['target']\n",
    "\n",
    "preprocessor = build_preprocessing_pipeline(X, feature_types)\n",
    "X_processed= preprocessor.fit_transform(X,y)"
   ]
  },
  {
   "cell_type": "code",
   "execution_count": null,
   "id": "968d04c9",
   "metadata": {},
   "outputs": [],
   "source": [
    "from backend.data_pipeline.data_loader import load_data\n",
    "from backend.eda.eda_analyzer import EDAAnalyzer\n",
    "from backend.supervised_models.model_selector import detect_task_type, get_classification_models, get_regression_models\n",
    "from backend.supervised_models.trainer import ModelTrainer\n",
    "\n",
    "# Load dataset\n",
    "df = load_data('data/raw/synthetic_data.csv')\n",
    "\n",
    "# Separate features and target\n",
    "X = df.drop(columns=['purchase'])  # Adjust column name accordingly\n",
    "y = df['purchase']\n",
    "\n",
    "# Detect task type\n",
    "task_type = detect_task_type(y)\n",
    "print(f\"Detected Task Type: {task_type}\")\n",
    "\n",
    "# Initialize trainer\n",
    "trainer = ModelTrainer(X, y, task_type=task_type, cv=5)\n",
    "\n",
    "# Train and evaluate models\n",
    "results = trainer.train_and_evaluate()\n",
    "\n",
    "# Optional: Hyperparameter tuning\n",
    "best_model, best_params, best_score = trainer.hyperparameter_tuning(\n",
    "    model_name='Random Forest',\n",
    "    param_grid={'n_estimators': [50, 100], 'max_depth': [None, 10]}\n",
    ")\n",
    "\n",
    "# Save best model\n",
    "trainer.save_best_model(best_model)"
   ]
  }
 ],
 "metadata": {
  "kernelspec": {
   "display_name": "myvenv",
   "language": "python",
   "name": "python3"
  },
  "language_info": {
   "codemirror_mode": {
    "name": "ipython",
    "version": 3
   },
   "file_extension": ".py",
   "mimetype": "text/x-python",
   "name": "python",
   "nbconvert_exporter": "python",
   "pygments_lexer": "ipython3",
   "version": "3.12.8"
  }
 },
 "nbformat": 4,
 "nbformat_minor": 5
}
